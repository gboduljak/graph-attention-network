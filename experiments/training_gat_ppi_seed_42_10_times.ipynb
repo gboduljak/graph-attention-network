{
  "cells": [
    {
      "cell_type": "code",
      "execution_count": 1,
      "metadata": {
        "colab": {
          "base_uri": "https://localhost:8080/"
        },
        "id": "YrEINMv8xrrb",
        "outputId": "4efc4b54-a332-4032-895f-c41b1cbcf97d"
      },
      "outputs": [
        {
          "name": "stdout",
          "output_type": "stream",
          "text": [
            "1.13.0+cu116\n"
          ]
        }
      ],
      "source": [
        "# Check PyTorch version installed on this system\n",
        "!python -c \"import torch; print(torch.__version__)\""
      ]
    },
    {
      "cell_type": "code",
      "execution_count": 2,
      "metadata": {
        "colab": {
          "base_uri": "https://localhost:8080/"
        },
        "id": "4AUKBJ8Z0neS",
        "outputId": "699d35ea-fc80-4c8c-c2f7-7b3328941f38"
      },
      "outputs": [
        {
          "name": "stdout",
          "output_type": "stream",
          "text": [
            "Thu Dec 15 23:43:33 2022       \n",
            "+-----------------------------------------------------------------------------+\n",
            "| NVIDIA-SMI 460.32.03    Driver Version: 460.32.03    CUDA Version: 11.2     |\n",
            "|-------------------------------+----------------------+----------------------+\n",
            "| GPU  Name        Persistence-M| Bus-Id        Disp.A | Volatile Uncorr. ECC |\n",
            "| Fan  Temp  Perf  Pwr:Usage/Cap|         Memory-Usage | GPU-Util  Compute M. |\n",
            "|                               |                      |               MIG M. |\n",
            "|===============================+======================+======================|\n",
            "|   0  A100-SXM4-40GB      Off  | 00000000:00:04.0 Off |                    0 |\n",
            "| N/A   30C    P0    52W / 400W |      0MiB / 40536MiB |      0%      Default |\n",
            "|                               |                      |             Disabled |\n",
            "+-------------------------------+----------------------+----------------------+\n",
            "                                                                               \n",
            "+-----------------------------------------------------------------------------+\n",
            "| Processes:                                                                  |\n",
            "|  GPU   GI   CI        PID   Type   Process name                  GPU Memory |\n",
            "|        ID   ID                                                   Usage      |\n",
            "|=============================================================================|\n",
            "|  No running processes found                                                 |\n",
            "+-----------------------------------------------------------------------------+\n"
          ]
        }
      ],
      "source": [
        "!nvidia-smi"
      ]
    },
    {
      "cell_type": "code",
      "execution_count": 3,
      "metadata": {
        "colab": {
          "base_uri": "https://localhost:8080/"
        },
        "id": "uWUAAH_XxxWC",
        "outputId": "1858eb9e-d0ae-455c-8f92-558c6b250b3f"
      },
      "outputs": [
        {
          "name": "stdout",
          "output_type": "stream",
          "text": [
            "env: TORCH=1.13.0+cu116\n",
            "Looking in indexes: https://pypi.org/simple, https://us-python.pkg.dev/colab-wheels/public/simple/\n",
            "Looking in links: https://data.pyg.org/whl/torch-1.13.0+cu116.html\n",
            "Requirement already satisfied: torch-scatter in /usr/local/lib/python3.8/dist-packages (2.1.0+pt113cu116)\n",
            "Looking in indexes: https://pypi.org/simple, https://us-python.pkg.dev/colab-wheels/public/simple/\n",
            "Looking in links: https://data.pyg.org/whl/torch-1.13.0+cu116.html\n",
            "Requirement already satisfied: torch-sparse in /usr/local/lib/python3.8/dist-packages (0.6.15+pt113cu116)\n",
            "Requirement already satisfied: scipy in /usr/local/lib/python3.8/dist-packages (from torch-sparse) (1.7.3)\n",
            "Requirement already satisfied: numpy<1.23.0,>=1.16.5 in /usr/local/lib/python3.8/dist-packages (from scipy->torch-sparse) (1.21.6)\n",
            "Looking in indexes: https://pypi.org/simple, https://us-python.pkg.dev/colab-wheels/public/simple/\n",
            "Requirement already satisfied: torch-geometric in /usr/local/lib/python3.8/dist-packages (2.2.0)\n",
            "Requirement already satisfied: jinja2 in /usr/local/lib/python3.8/dist-packages (from torch-geometric) (2.11.3)\n",
            "Requirement already satisfied: psutil>=5.8.0 in /usr/local/lib/python3.8/dist-packages (from torch-geometric) (5.9.4)\n",
            "Requirement already satisfied: requests in /usr/local/lib/python3.8/dist-packages (from torch-geometric) (2.23.0)\n",
            "Requirement already satisfied: pyparsing in /usr/local/lib/python3.8/dist-packages (from torch-geometric) (3.0.9)\n",
            "Requirement already satisfied: scipy in /usr/local/lib/python3.8/dist-packages (from torch-geometric) (1.7.3)\n",
            "Requirement already satisfied: tqdm in /usr/local/lib/python3.8/dist-packages (from torch-geometric) (4.64.1)\n",
            "Requirement already satisfied: scikit-learn in /usr/local/lib/python3.8/dist-packages (from torch-geometric) (1.0.2)\n",
            "Requirement already satisfied: numpy in /usr/local/lib/python3.8/dist-packages (from torch-geometric) (1.21.6)\n",
            "Requirement already satisfied: MarkupSafe>=0.23 in /usr/local/lib/python3.8/dist-packages (from jinja2->torch-geometric) (2.0.1)\n",
            "Requirement already satisfied: urllib3!=1.25.0,!=1.25.1,<1.26,>=1.21.1 in /usr/local/lib/python3.8/dist-packages (from requests->torch-geometric) (1.24.3)\n",
            "Requirement already satisfied: chardet<4,>=3.0.2 in /usr/local/lib/python3.8/dist-packages (from requests->torch-geometric) (3.0.4)\n",
            "Requirement already satisfied: certifi>=2017.4.17 in /usr/local/lib/python3.8/dist-packages (from requests->torch-geometric) (2022.9.24)\n",
            "Requirement already satisfied: idna<3,>=2.5 in /usr/local/lib/python3.8/dist-packages (from requests->torch-geometric) (2.10)\n",
            "Requirement already satisfied: joblib>=0.11 in /usr/local/lib/python3.8/dist-packages (from scikit-learn->torch-geometric) (1.2.0)\n",
            "Requirement already satisfied: threadpoolctl>=2.0.0 in /usr/local/lib/python3.8/dist-packages (from scikit-learn->torch-geometric) (3.1.0)\n",
            "Looking in indexes: https://pypi.org/simple, https://us-python.pkg.dev/colab-wheels/public/simple/\n",
            "Requirement already satisfied: torchmetrics in /usr/local/lib/python3.8/dist-packages (0.11.0)\n",
            "Requirement already satisfied: packaging in /usr/local/lib/python3.8/dist-packages (from torchmetrics) (21.3)\n",
            "Requirement already satisfied: typing-extensions in /usr/local/lib/python3.8/dist-packages (from torchmetrics) (4.4.0)\n",
            "Requirement already satisfied: torch>=1.8.1 in /usr/local/lib/python3.8/dist-packages (from torchmetrics) (1.13.0+cu116)\n",
            "Requirement already satisfied: numpy>=1.17.2 in /usr/local/lib/python3.8/dist-packages (from torchmetrics) (1.21.6)\n",
            "Requirement already satisfied: pyparsing!=3.0.5,>=2.0.2 in /usr/local/lib/python3.8/dist-packages (from packaging->torchmetrics) (3.0.9)\n",
            "Looking in indexes: https://pypi.org/simple, https://us-python.pkg.dev/colab-wheels/public/simple/\n",
            "Requirement already satisfied: matplotlib in /usr/local/lib/python3.8/dist-packages (3.2.2)\n",
            "Requirement already satisfied: kiwisolver>=1.0.1 in /usr/local/lib/python3.8/dist-packages (from matplotlib) (1.4.4)\n",
            "Requirement already satisfied: python-dateutil>=2.1 in /usr/local/lib/python3.8/dist-packages (from matplotlib) (2.8.2)\n",
            "Requirement already satisfied: cycler>=0.10 in /usr/local/lib/python3.8/dist-packages (from matplotlib) (0.11.0)\n",
            "Requirement already satisfied: numpy>=1.11 in /usr/local/lib/python3.8/dist-packages (from matplotlib) (1.21.6)\n",
            "Requirement already satisfied: pyparsing!=2.0.4,!=2.1.2,!=2.1.6,>=2.0.1 in /usr/local/lib/python3.8/dist-packages (from matplotlib) (3.0.9)\n",
            "Requirement already satisfied: six>=1.5 in /usr/local/lib/python3.8/dist-packages (from python-dateutil>=2.1->matplotlib) (1.15.0)\n",
            "Looking in indexes: https://pypi.org/simple, https://us-python.pkg.dev/colab-wheels/public/simple/\n",
            "Requirement already satisfied: networkx in /usr/local/lib/python3.8/dist-packages (2.8.8)\n",
            "Looking in indexes: https://pypi.org/simple, https://us-python.pkg.dev/colab-wheels/public/simple/\n",
            "Requirement already satisfied: scipy in /usr/local/lib/python3.8/dist-packages (1.7.3)\n",
            "Requirement already satisfied: numpy<1.23.0,>=1.16.5 in /usr/local/lib/python3.8/dist-packages (from scipy) (1.21.6)\n"
          ]
        }
      ],
      "source": [
        "# Download the required modules\n",
        "\"\"\"\n",
        "Assign to TORCH with what you get from the cell above, E.g., export TORCH=1.13.0+cu116\n",
        "\"\"\"\n",
        "%env TORCH=1.13.0+cu116\n",
        "!pip install torch-scatter -f https://data.pyg.org/whl/torch-${TORCH}.html\n",
        "!pip install torch-sparse -f https://data.pyg.org/whl/torch-${TORCH}.html\n",
        "!pip install torch-geometric\n",
        "!pip install torchmetrics\n",
        "!pip install matplotlib\n",
        "!pip install networkx\n",
        "!pip install scipy"
      ]
    },
    {
      "cell_type": "code",
      "execution_count": 4,
      "metadata": {
        "colab": {
          "base_uri": "https://localhost:8080/"
        },
        "id": "FaHOK91EyGuR",
        "outputId": "498a9c6a-ea6a-4b3c-95f3-d2fbd33476ee"
      },
      "outputs": [
        {
          "name": "stdout",
          "output_type": "stream",
          "text": [
            "env: github_repository=grl\n"
          ]
        }
      ],
      "source": [
        "github_username=\"deeplearningtester\"\n",
        "github_repository=\"grl\"\n",
        "github_token = \"\"\n",
        "\n",
        "%env github_repository={github_repository}"
      ]
    },
    {
      "cell_type": "code",
      "execution_count": 5,
      "metadata": {
        "colab": {
          "base_uri": "https://localhost:8080/"
        },
        "id": "RtuxeTnU17rM",
        "outputId": "4a78dc4c-1fb7-4a19-e5d8-0fa518bcaf86"
      },
      "outputs": [
        {
          "name": "stdout",
          "output_type": "stream",
          "text": [
            "/content/grl\n"
          ]
        }
      ],
      "source": [
        "%cd $github_repository"
      ]
    },
    {
      "cell_type": "code",
      "execution_count": 6,
      "metadata": {
        "colab": {
          "base_uri": "https://localhost:8080/"
        },
        "id": "z6SbBZVV0Ek6",
        "outputId": "34740e5d-826a-4357-e29d-9df32d4f2998"
      },
      "outputs": [
        {
          "data": {
            "text/plain": [
              "<torch._C.Generator at 0x7f66148824f0>"
            ]
          },
          "execution_count": 6,
          "metadata": {},
          "output_type": "execute_result"
        }
      ],
      "source": [
        "import torch\n",
        "import random\n",
        "\n",
        "random.seed(42)\n",
        "torch.manual_seed(42)"
      ]
    },
    {
      "cell_type": "code",
      "execution_count": 7,
      "metadata": {
        "id": "ohY0SVKP0Fb5"
      },
      "outputs": [],
      "source": [
        "from torch_geometric.datasets import PPI\n",
        "from torch_geometric.loader import DataLoader\n",
        "from torch_geometric.transforms import AddSelfLoops\n",
        "import dataset\n",
        "\n",
        "train_dataset = PPI(root='', split='train', transform=AddSelfLoops())\n",
        "val_dataset = PPI(root='', split='val', transform=AddSelfLoops())\n",
        "test_dataset = PPI(root='', split='test', transform=AddSelfLoops())\n",
        "\n",
        "dataset.num_features = 50\n",
        "dataset.num_labels = 121\n",
        "dataset.train_loader = DataLoader(train_dataset, batch_size=2)\n",
        "dataset.val_loader = DataLoader(val_dataset, batch_size=2)\n",
        "dataset.test_loader = DataLoader(test_dataset, batch_size=2)"
      ]
    },
    {
      "cell_type": "code",
      "execution_count": 8,
      "metadata": {
        "id": "IXxawUNr0Hnp"
      },
      "outputs": [],
      "source": [
        "from evaluation import evaluate\n",
        "from training_loop import train"
      ]
    },
    {
      "cell_type": "code",
      "execution_count": 9,
      "metadata": {
        "colab": {
          "base_uri": "https://localhost:8080/"
        },
        "id": "kXAdnAV20MvV",
        "outputId": "bd6a2121-cd64-492e-afeb-871b215dd2f0"
      },
      "outputs": [
        {
          "data": {
            "text/plain": [
              "(tensor(0.7045, device='cuda:0'), tensor(0.3902, device='cuda:0'))"
            ]
          },
          "execution_count": 9,
          "metadata": {},
          "output_type": "execute_result"
        }
      ],
      "source": [
        "from models import GATv1PPI\n",
        "model = GATv1PPI(dataset.num_features, dataset.num_labels)\n",
        "evaluate(model, dataset.test_loader)"
      ]
    },
    {
      "cell_type": "code",
      "execution_count": 10,
      "metadata": {
        "id": "OAupMVsO0Oup"
      },
      "outputs": [],
      "source": [
        "ppi_train_params = {\n",
        "  \"lr\": 5e-3,\n",
        "  \"weight_decay\": 0,\n",
        "  \"epochs\": 400,\n",
        "  \"patience\": 100,\n",
        "  \"model_name\": model.model_name\n",
        "}"
      ]
    },
    {
      "cell_type": "code",
      "execution_count": 11,
      "metadata": {
        "id": "FG6MKVHQ0RC8"
      },
      "outputs": [],
      "source": [
        "def run_experiment(iters=10):\n",
        "  losses = []\n",
        "  scores = []\n",
        "  for iter in range(iters):\n",
        "    best_model, _, _, _, _, _ = train(model, ppi_train_params, verbose=False)\n",
        "    loss, score = evaluate(best_model, dataset.test_loader)\n",
        "    losses.append(loss)\n",
        "    scores.append(score)\n",
        "  losses = torch.tensor(losses)\n",
        "  scores = torch.tensor(scores)\n",
        "  return (torch.std_mean(losses), torch.std_mean(scores))"
      ]
    },
    {
      "cell_type": "code",
      "execution_count": 12,
      "metadata": {
        "colab": {
          "base_uri": "https://localhost:8080/"
        },
        "id": "MEReyXD4i3bh",
        "outputId": "7023c4e4-fec6-4cd6-c05e-d457a9446faf"
      },
      "outputs": [
        {
          "name": "stdout",
          "output_type": "stream",
          "text": [
            "training model GATv1PPI\n",
            "GATv1PPI(\n",
            "  (layers): ModuleList(\n",
            "    (0): GATLayer()\n",
            "    (1): GATLayer()\n",
            "    (2): GATLayer(\n",
            "      (act): Identity()\n",
            "    )\n",
            "  )\n",
            ")\n",
            "training...\n",
            "best model performance @ epoch 00268: \n",
            "\tval_loss: 0.1089 | val_micro_f1: 0.9638\n",
            "\ttest_loss: 0.0621 | test_micro_f1: 0.9790\n",
            "training model GATv1PPI\n",
            "GATv1PPI(\n",
            "  (layers): ModuleList(\n",
            "    (0): GATLayer()\n",
            "    (1): GATLayer()\n",
            "    (2): GATLayer(\n",
            "      (act): Identity()\n",
            "    )\n",
            "  )\n",
            ")\n",
            "training...\n",
            "best model performance @ epoch 00179: \n",
            "\tval_loss: 0.1064 | val_micro_f1: 0.9598\n",
            "\ttest_loss: 0.0650 | test_micro_f1: 0.9738\n",
            "training model GATv1PPI\n",
            "GATv1PPI(\n",
            "  (layers): ModuleList(\n",
            "    (0): GATLayer()\n",
            "    (1): GATLayer()\n",
            "    (2): GATLayer(\n",
            "      (act): Identity()\n",
            "    )\n",
            "  )\n",
            ")\n",
            "training...\n",
            "best model performance @ epoch 00214: \n",
            "\tval_loss: 0.1192 | val_micro_f1: 0.9574\n",
            "\ttest_loss: 0.0659 | test_micro_f1: 0.9737\n",
            "training model GATv1PPI\n",
            "GATv1PPI(\n",
            "  (layers): ModuleList(\n",
            "    (0): GATLayer()\n",
            "    (1): GATLayer()\n",
            "    (2): GATLayer(\n",
            "      (act): Identity()\n",
            "    )\n",
            "  )\n",
            ")\n",
            "training...\n",
            "best model performance @ epoch 00196: \n",
            "\tval_loss: 0.0995 | val_micro_f1: 0.9630\n",
            "\ttest_loss: 0.0641 | test_micro_f1: 0.9761\n",
            "training model GATv1PPI\n",
            "GATv1PPI(\n",
            "  (layers): ModuleList(\n",
            "    (0): GATLayer()\n",
            "    (1): GATLayer()\n",
            "    (2): GATLayer(\n",
            "      (act): Identity()\n",
            "    )\n",
            "  )\n",
            ")\n",
            "training...\n",
            "best model performance @ epoch 00152: \n",
            "\tval_loss: 0.1035 | val_micro_f1: 0.9566\n",
            "\ttest_loss: 0.0631 | test_micro_f1: 0.9717\n",
            "training model GATv1PPI\n",
            "GATv1PPI(\n",
            "  (layers): ModuleList(\n",
            "    (0): GATLayer()\n",
            "    (1): GATLayer()\n",
            "    (2): GATLayer(\n",
            "      (act): Identity()\n",
            "    )\n",
            "  )\n",
            ")\n",
            "training...\n",
            "best model performance @ epoch 00165: \n",
            "\tval_loss: 0.1000 | val_micro_f1: 0.9610\n",
            "\ttest_loss: 0.0640 | test_micro_f1: 0.9751\n",
            "training model GATv1PPI\n",
            "GATv1PPI(\n",
            "  (layers): ModuleList(\n",
            "    (0): GATLayer()\n",
            "    (1): GATLayer()\n",
            "    (2): GATLayer(\n",
            "      (act): Identity()\n",
            "    )\n",
            "  )\n",
            ")\n",
            "training...\n",
            "best model performance @ epoch 00200: \n",
            "\tval_loss: 0.1045 | val_micro_f1: 0.9612\n",
            "\ttest_loss: 0.0614 | test_micro_f1: 0.9759\n",
            "training model GATv1PPI\n",
            "GATv1PPI(\n",
            "  (layers): ModuleList(\n",
            "    (0): GATLayer()\n",
            "    (1): GATLayer()\n",
            "    (2): GATLayer(\n",
            "      (act): Identity()\n",
            "    )\n",
            "  )\n",
            ")\n",
            "training...\n",
            "best model performance @ epoch 00149: \n",
            "\tval_loss: 0.1059 | val_micro_f1: 0.9568\n",
            "\ttest_loss: 0.0599 | test_micro_f1: 0.9742\n",
            "training model GATv1PPI\n",
            "GATv1PPI(\n",
            "  (layers): ModuleList(\n",
            "    (0): GATLayer()\n",
            "    (1): GATLayer()\n",
            "    (2): GATLayer(\n",
            "      (act): Identity()\n",
            "    )\n",
            "  )\n",
            ")\n",
            "training...\n",
            "best model performance @ epoch 00155: \n",
            "\tval_loss: 0.0991 | val_micro_f1: 0.9611\n",
            "\ttest_loss: 0.0582 | test_micro_f1: 0.9755\n",
            "training model GATv1PPI\n",
            "GATv1PPI(\n",
            "  (layers): ModuleList(\n",
            "    (0): GATLayer()\n",
            "    (1): GATLayer()\n",
            "    (2): GATLayer(\n",
            "      (act): Identity()\n",
            "    )\n",
            "  )\n",
            ")\n",
            "training...\n",
            "best model performance @ epoch 00183: \n",
            "\tval_loss: 0.0916 | val_micro_f1: 0.9639\n",
            "\ttest_loss: 0.0529 | test_micro_f1: 0.9785\n"
          ]
        }
      ],
      "source": [
        "loss_ci, score_ci = run_experiment(10)"
      ]
    },
    {
      "cell_type": "code",
      "execution_count": 13,
      "metadata": {
        "colab": {
          "base_uri": "https://localhost:8080/"
        },
        "id": "LCJrhqv7jqUS",
        "outputId": "ec1e3012-7b11-424d-e7cb-eca5e675de67"
      },
      "outputs": [
        {
          "name": "stdout",
          "output_type": "stream",
          "text": [
            "loss:\t\t0.0617 +/- 0.0039\n",
            "micro F1 score: 0.9753 +/- 0.0022\n"
          ]
        }
      ],
      "source": [
        "loss_std, loss_mean = loss_ci\n",
        "score_std, score_mean = score_ci\n",
        "\n",
        "print(f'loss:\\t\\t{loss_mean:.4f} +/- {loss_std:.4f}')\n",
        "print(f'micro F1 score: {score_mean:.4f} +/- {score_std:.4f}')"
      ]
    }
  ],
  "metadata": {
    "accelerator": "GPU",
    "colab": {
      "provenance": []
    },
    "gpuClass": "premium",
    "kernelspec": {
      "display_name": "grl-env",
      "language": "python",
      "name": "python3"
    },
    "language_info": {
      "name": "python",
      "version": "3.8.0 (default, Mar 18 2022, 03:31:43) \n[Clang 12.0.1 ]"
    },
    "vscode": {
      "interpreter": {
        "hash": "4737062b79cbd82e7f605897a0c10fa5613d72f803a33da3548714c1d9e40d67"
      }
    }
  },
  "nbformat": 4,
  "nbformat_minor": 0
}
