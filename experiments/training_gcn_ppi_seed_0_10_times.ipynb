{
  "cells": [
    {
      "cell_type": "code",
      "execution_count": 1,
      "metadata": {
        "colab": {
          "base_uri": "https://localhost:8080/"
        },
        "id": "YrEINMv8xrrb",
        "outputId": "8c72792f-e3fd-4bed-ee3f-d549ffb2140a"
      },
      "outputs": [
        {
          "name": "stdout",
          "output_type": "stream",
          "text": [
            "1.13.0+cu116\n"
          ]
        }
      ],
      "source": [
        "# Check PyTorch version installed on this system\n",
        "!python -c \"import torch; print(torch.__version__)\""
      ]
    },
    {
      "cell_type": "code",
      "execution_count": 2,
      "metadata": {
        "colab": {
          "base_uri": "https://localhost:8080/"
        },
        "id": "4AUKBJ8Z0neS",
        "outputId": "415ae9de-1c4c-4b31-a455-e6d2ec72bc29"
      },
      "outputs": [
        {
          "name": "stdout",
          "output_type": "stream",
          "text": [
            "Thu Dec 15 02:19:32 2022       \n",
            "+-----------------------------------------------------------------------------+\n",
            "| NVIDIA-SMI 460.32.03    Driver Version: 460.32.03    CUDA Version: 11.2     |\n",
            "|-------------------------------+----------------------+----------------------+\n",
            "| GPU  Name        Persistence-M| Bus-Id        Disp.A | Volatile Uncorr. ECC |\n",
            "| Fan  Temp  Perf  Pwr:Usage/Cap|         Memory-Usage | GPU-Util  Compute M. |\n",
            "|                               |                      |               MIG M. |\n",
            "|===============================+======================+======================|\n",
            "|   0  Tesla T4            Off  | 00000000:00:04.0 Off |                    0 |\n",
            "| N/A   44C    P0    25W /  70W |      0MiB / 15109MiB |      0%      Default |\n",
            "|                               |                      |                  N/A |\n",
            "+-------------------------------+----------------------+----------------------+\n",
            "                                                                               \n",
            "+-----------------------------------------------------------------------------+\n",
            "| Processes:                                                                  |\n",
            "|  GPU   GI   CI        PID   Type   Process name                  GPU Memory |\n",
            "|        ID   ID                                                   Usage      |\n",
            "|=============================================================================|\n",
            "|  No running processes found                                                 |\n",
            "+-----------------------------------------------------------------------------+\n"
          ]
        }
      ],
      "source": [
        "!nvidia-smi"
      ]
    },
    {
      "cell_type": "code",
      "execution_count": 3,
      "metadata": {
        "colab": {
          "base_uri": "https://localhost:8080/"
        },
        "id": "uWUAAH_XxxWC",
        "outputId": "1d44322a-0e92-4369-bcfa-fc1ebdf7a6e0"
      },
      "outputs": [
        {
          "name": "stdout",
          "output_type": "stream",
          "text": [
            "env: TORCH=1.13.0+cu116\n",
            "Looking in indexes: https://pypi.org/simple, https://us-python.pkg.dev/colab-wheels/public/simple/\n",
            "Looking in links: https://data.pyg.org/whl/torch-1.13.0+cu116.html\n",
            "Requirement already satisfied: torch-scatter in /usr/local/lib/python3.8/dist-packages (2.1.0+pt113cu116)\n",
            "Looking in indexes: https://pypi.org/simple, https://us-python.pkg.dev/colab-wheels/public/simple/\n",
            "Looking in links: https://data.pyg.org/whl/torch-1.13.0+cu116.html\n",
            "Requirement already satisfied: torch-sparse in /usr/local/lib/python3.8/dist-packages (0.6.15+pt113cu116)\n",
            "Requirement already satisfied: scipy in /usr/local/lib/python3.8/dist-packages (from torch-sparse) (1.7.3)\n",
            "Requirement already satisfied: numpy<1.23.0,>=1.16.5 in /usr/local/lib/python3.8/dist-packages (from scipy->torch-sparse) (1.21.6)\n",
            "Looking in indexes: https://pypi.org/simple, https://us-python.pkg.dev/colab-wheels/public/simple/\n",
            "Requirement already satisfied: torch-geometric in /usr/local/lib/python3.8/dist-packages (2.2.0)\n",
            "Requirement already satisfied: scikit-learn in /usr/local/lib/python3.8/dist-packages (from torch-geometric) (1.0.2)\n",
            "Requirement already satisfied: scipy in /usr/local/lib/python3.8/dist-packages (from torch-geometric) (1.7.3)\n",
            "Requirement already satisfied: tqdm in /usr/local/lib/python3.8/dist-packages (from torch-geometric) (4.64.1)\n",
            "Requirement already satisfied: requests in /usr/local/lib/python3.8/dist-packages (from torch-geometric) (2.23.0)\n",
            "Requirement already satisfied: jinja2 in /usr/local/lib/python3.8/dist-packages (from torch-geometric) (2.11.3)\n",
            "Requirement already satisfied: numpy in /usr/local/lib/python3.8/dist-packages (from torch-geometric) (1.21.6)\n",
            "Requirement already satisfied: pyparsing in /usr/local/lib/python3.8/dist-packages (from torch-geometric) (3.0.9)\n",
            "Requirement already satisfied: psutil>=5.8.0 in /usr/local/lib/python3.8/dist-packages (from torch-geometric) (5.9.4)\n",
            "Requirement already satisfied: MarkupSafe>=0.23 in /usr/local/lib/python3.8/dist-packages (from jinja2->torch-geometric) (2.0.1)\n",
            "Requirement already satisfied: idna<3,>=2.5 in /usr/local/lib/python3.8/dist-packages (from requests->torch-geometric) (2.10)\n",
            "Requirement already satisfied: urllib3!=1.25.0,!=1.25.1,<1.26,>=1.21.1 in /usr/local/lib/python3.8/dist-packages (from requests->torch-geometric) (1.24.3)\n",
            "Requirement already satisfied: chardet<4,>=3.0.2 in /usr/local/lib/python3.8/dist-packages (from requests->torch-geometric) (3.0.4)\n",
            "Requirement already satisfied: certifi>=2017.4.17 in /usr/local/lib/python3.8/dist-packages (from requests->torch-geometric) (2022.9.24)\n",
            "Requirement already satisfied: threadpoolctl>=2.0.0 in /usr/local/lib/python3.8/dist-packages (from scikit-learn->torch-geometric) (3.1.0)\n",
            "Requirement already satisfied: joblib>=0.11 in /usr/local/lib/python3.8/dist-packages (from scikit-learn->torch-geometric) (1.2.0)\n",
            "Looking in indexes: https://pypi.org/simple, https://us-python.pkg.dev/colab-wheels/public/simple/\n",
            "Requirement already satisfied: torchmetrics in /usr/local/lib/python3.8/dist-packages (0.11.0)\n",
            "Requirement already satisfied: packaging in /usr/local/lib/python3.8/dist-packages (from torchmetrics) (21.3)\n",
            "Requirement already satisfied: typing-extensions in /usr/local/lib/python3.8/dist-packages (from torchmetrics) (4.4.0)\n",
            "Requirement already satisfied: torch>=1.8.1 in /usr/local/lib/python3.8/dist-packages (from torchmetrics) (1.13.0+cu116)\n",
            "Requirement already satisfied: numpy>=1.17.2 in /usr/local/lib/python3.8/dist-packages (from torchmetrics) (1.21.6)\n",
            "Requirement already satisfied: pyparsing!=3.0.5,>=2.0.2 in /usr/local/lib/python3.8/dist-packages (from packaging->torchmetrics) (3.0.9)\n",
            "Looking in indexes: https://pypi.org/simple, https://us-python.pkg.dev/colab-wheels/public/simple/\n",
            "Requirement already satisfied: matplotlib in /usr/local/lib/python3.8/dist-packages (3.2.2)\n",
            "Requirement already satisfied: python-dateutil>=2.1 in /usr/local/lib/python3.8/dist-packages (from matplotlib) (2.8.2)\n",
            "Requirement already satisfied: cycler>=0.10 in /usr/local/lib/python3.8/dist-packages (from matplotlib) (0.11.0)\n",
            "Requirement already satisfied: numpy>=1.11 in /usr/local/lib/python3.8/dist-packages (from matplotlib) (1.21.6)\n",
            "Requirement already satisfied: kiwisolver>=1.0.1 in /usr/local/lib/python3.8/dist-packages (from matplotlib) (1.4.4)\n",
            "Requirement already satisfied: pyparsing!=2.0.4,!=2.1.2,!=2.1.6,>=2.0.1 in /usr/local/lib/python3.8/dist-packages (from matplotlib) (3.0.9)\n",
            "Requirement already satisfied: six>=1.5 in /usr/local/lib/python3.8/dist-packages (from python-dateutil>=2.1->matplotlib) (1.15.0)\n",
            "Looking in indexes: https://pypi.org/simple, https://us-python.pkg.dev/colab-wheels/public/simple/\n",
            "Requirement already satisfied: networkx in /usr/local/lib/python3.8/dist-packages (2.8.8)\n",
            "Looking in indexes: https://pypi.org/simple, https://us-python.pkg.dev/colab-wheels/public/simple/\n",
            "Requirement already satisfied: scipy in /usr/local/lib/python3.8/dist-packages (1.7.3)\n",
            "Requirement already satisfied: numpy<1.23.0,>=1.16.5 in /usr/local/lib/python3.8/dist-packages (from scipy) (1.21.6)\n"
          ]
        }
      ],
      "source": [
        "# Download the required modules\n",
        "\"\"\"\n",
        "Assign to TORCH with what you get from the cell above, E.g., export TORCH=1.13.0+cu116\n",
        "\"\"\"\n",
        "%env TORCH=1.13.0+cu116\n",
        "!pip install torch-scatter -f https://data.pyg.org/whl/torch-${TORCH}.html\n",
        "!pip install torch-sparse -f https://data.pyg.org/whl/torch-${TORCH}.html\n",
        "!pip install torch-geometric\n",
        "!pip install torchmetrics\n",
        "!pip install matplotlib\n",
        "!pip install networkx\n",
        "!pip install scipy"
      ]
    },
    {
      "cell_type": "code",
      "execution_count": 4,
      "metadata": {
        "colab": {
          "base_uri": "https://localhost:8080/"
        },
        "id": "FaHOK91EyGuR",
        "outputId": "14a9cb9c-76fa-41e5-9b34-0f82a955765c"
      },
      "outputs": [
        {
          "name": "stdout",
          "output_type": "stream",
          "text": [
            "env: github_repository=grl\n"
          ]
        }
      ],
      "source": [
        "github_username=\"\"\n",
        "github_repository=\"grl\"\n",
        "github_token = \"\"\n",
        "\n",
        "%env github_repository={github_repository}"
      ]
    },
    {
      "cell_type": "code",
      "execution_count": 5,
      "metadata": {
        "colab": {
          "base_uri": "https://localhost:8080/"
        },
        "id": "TWUxyUz_x8et",
        "outputId": "89f83e81-bd0a-415e-80b6-888af63b400e"
      },
      "outputs": [
        {
          "name": "stdout",
          "output_type": "stream",
          "text": [
            "fatal: destination path 'grl' already exists and is not an empty directory.\n"
          ]
        }
      ],
      "source": [
        "!git clone https://{github_token}@github.com/{github_username}/{github_repository}.git"
      ]
    },
    {
      "cell_type": "code",
      "execution_count": 6,
      "metadata": {
        "colab": {
          "base_uri": "https://localhost:8080/"
        },
        "id": "RtuxeTnU17rM",
        "outputId": "730b7b6d-108a-48d9-fccd-feed1ef4bd68"
      },
      "outputs": [
        {
          "name": "stdout",
          "output_type": "stream",
          "text": [
            "/content/grl\n"
          ]
        }
      ],
      "source": [
        "%cd $github_repository"
      ]
    },
    {
      "cell_type": "code",
      "execution_count": 7,
      "metadata": {
        "colab": {
          "base_uri": "https://localhost:8080/"
        },
        "id": "z6SbBZVV0Ek6",
        "outputId": "515ce12c-8bf6-4db5-e0d0-19df80eb3c9c"
      },
      "outputs": [
        {
          "data": {
            "text/plain": [
              "<torch._C.Generator at 0x7f65140eb810>"
            ]
          },
          "execution_count": 7,
          "metadata": {},
          "output_type": "execute_result"
        }
      ],
      "source": [
        "import torch\n",
        "import random\n",
        "\n",
        "random.seed(0)\n",
        "torch.manual_seed(0)"
      ]
    },
    {
      "cell_type": "code",
      "execution_count": 8,
      "metadata": {
        "id": "ohY0SVKP0Fb5"
      },
      "outputs": [],
      "source": [
        "from torch_geometric.datasets import PPI\n",
        "from torch_geometric.loader import DataLoader\n",
        "from torch_geometric.transforms import AddSelfLoops\n",
        "import dataset\n",
        "\n",
        "train_dataset = PPI(root='', split='train', transform=AddSelfLoops())\n",
        "val_dataset = PPI(root='', split='val', transform=AddSelfLoops())\n",
        "test_dataset = PPI(root='', split='test', transform=AddSelfLoops())\n",
        "\n",
        "dataset.num_features = 50\n",
        "dataset.num_labels = 121\n",
        "dataset.train_loader = DataLoader(train_dataset, batch_size=2)\n",
        "dataset.val_loader = DataLoader(val_dataset, batch_size=2)\n",
        "dataset.test_loader = DataLoader(test_dataset, batch_size=2)"
      ]
    },
    {
      "cell_type": "code",
      "execution_count": 9,
      "metadata": {
        "id": "IXxawUNr0Hnp"
      },
      "outputs": [],
      "source": [
        "from evaluation import evaluate\n",
        "from training_loop import train"
      ]
    },
    {
      "cell_type": "code",
      "execution_count": 10,
      "metadata": {
        "colab": {
          "base_uri": "https://localhost:8080/"
        },
        "id": "kXAdnAV20MvV",
        "outputId": "9a4a65e9-a6f6-4bb4-d1da-e9575193464c"
      },
      "outputs": [
        {
          "data": {
            "text/plain": [
              "(tensor(0.6931, device='cuda:0'), tensor(0.3787, device='cuda:0'))"
            ]
          },
          "execution_count": 10,
          "metadata": {},
          "output_type": "execute_result"
        }
      ],
      "source": [
        "from models import GCNPPI\n",
        "model = GCNPPI(dataset.num_features, dataset.num_labels)\n",
        "evaluate(model, dataset.test_loader)"
      ]
    },
    {
      "cell_type": "code",
      "execution_count": 11,
      "metadata": {
        "id": "OAupMVsO0Oup"
      },
      "outputs": [],
      "source": [
        "ppi_train_params = {\n",
        "  \"lr\": 5e-3,\n",
        "  \"weight_decay\": 0,\n",
        "  \"epochs\": 400,\n",
        "  \"patience\": 100,\n",
        "  \"model_name\": model.model_name\n",
        "}"
      ]
    },
    {
      "cell_type": "code",
      "execution_count": 12,
      "metadata": {
        "id": "FG6MKVHQ0RC8"
      },
      "outputs": [],
      "source": [
        "def run_experiment(iters=10):\n",
        "  losses = []\n",
        "  scores = []\n",
        "  for iter in range(iters):\n",
        "    best_model, _, _, _, _, _ = train(model, ppi_train_params, verbose=False)\n",
        "    loss, score = evaluate(best_model, dataset.test_loader)\n",
        "    losses.append(loss)\n",
        "    scores.append(score)\n",
        "  losses = torch.tensor(losses)\n",
        "  scores = torch.tensor(scores)\n",
        "  return (torch.std_mean(losses), torch.std_mean(scores))"
      ]
    },
    {
      "cell_type": "code",
      "execution_count": 13,
      "metadata": {
        "colab": {
          "base_uri": "https://localhost:8080/"
        },
        "id": "MEReyXD4i3bh",
        "outputId": "594fe03d-9a68-4bd7-82d6-83a919b03d2a"
      },
      "outputs": [
        {
          "name": "stdout",
          "output_type": "stream",
          "text": [
            "training model GCNPPI\n",
            "GCNPPI(\n",
            "  (encoder): Sequential(\n",
            "    (0): GCNConv(50, 1024)\n",
            "    (1): GCNConv(1024, 1024)\n",
            "  )\n",
            "  (classifier): GCNConv(1024, 121)\n",
            ")\n",
            "training...\n",
            "early stopping...\n",
            "best model performance @ epoch 00010: \n",
            "\tval_loss: 0.6163 | val_micro_f1: 0.4974\n",
            "\ttest_loss: 0.6061 | test_micro_f1: 0.5062\n",
            "training model GCNPPI\n",
            "GCNPPI(\n",
            "  (encoder): Sequential(\n",
            "    (0): GCNConv(50, 1024)\n",
            "    (1): GCNConv(1024, 1024)\n",
            "  )\n",
            "  (classifier): GCNConv(1024, 121)\n",
            ")\n",
            "training...\n",
            "early stopping...\n",
            "best model performance @ epoch 00008: \n",
            "\tval_loss: 0.6167 | val_micro_f1: 0.4960\n",
            "\ttest_loss: 0.6063 | test_micro_f1: 0.5054\n",
            "training model GCNPPI\n",
            "GCNPPI(\n",
            "  (encoder): Sequential(\n",
            "    (0): GCNConv(50, 1024)\n",
            "    (1): GCNConv(1024, 1024)\n",
            "  )\n",
            "  (classifier): GCNConv(1024, 121)\n",
            ")\n",
            "training...\n",
            "early stopping...\n",
            "best model performance @ epoch 00009: \n",
            "\tval_loss: 0.6165 | val_micro_f1: 0.4971\n",
            "\ttest_loss: 0.6052 | test_micro_f1: 0.5072\n",
            "training model GCNPPI\n",
            "GCNPPI(\n",
            "  (encoder): Sequential(\n",
            "    (0): GCNConv(50, 1024)\n",
            "    (1): GCNConv(1024, 1024)\n",
            "  )\n",
            "  (classifier): GCNConv(1024, 121)\n",
            ")\n",
            "training...\n",
            "early stopping...\n",
            "best model performance @ epoch 00008: \n",
            "\tval_loss: 0.6162 | val_micro_f1: 0.4987\n",
            "\ttest_loss: 0.6052 | test_micro_f1: 0.5074\n",
            "training model GCNPPI\n",
            "GCNPPI(\n",
            "  (encoder): Sequential(\n",
            "    (0): GCNConv(50, 1024)\n",
            "    (1): GCNConv(1024, 1024)\n",
            "  )\n",
            "  (classifier): GCNConv(1024, 121)\n",
            ")\n",
            "training...\n",
            "early stopping...\n",
            "best model performance @ epoch 00008: \n",
            "\tval_loss: 0.6167 | val_micro_f1: 0.4972\n",
            "\ttest_loss: 0.6055 | test_micro_f1: 0.5068\n",
            "training model GCNPPI\n",
            "GCNPPI(\n",
            "  (encoder): Sequential(\n",
            "    (0): GCNConv(50, 1024)\n",
            "    (1): GCNConv(1024, 1024)\n",
            "  )\n",
            "  (classifier): GCNConv(1024, 121)\n",
            ")\n",
            "training...\n",
            "early stopping...\n",
            "best model performance @ epoch 00009: \n",
            "\tval_loss: 0.6163 | val_micro_f1: 0.4985\n",
            "\ttest_loss: 0.6047 | test_micro_f1: 0.5074\n",
            "training model GCNPPI\n",
            "GCNPPI(\n",
            "  (encoder): Sequential(\n",
            "    (0): GCNConv(50, 1024)\n",
            "    (1): GCNConv(1024, 1024)\n",
            "  )\n",
            "  (classifier): GCNConv(1024, 121)\n",
            ")\n",
            "training...\n",
            "early stopping...\n",
            "best model performance @ epoch 00041: \n",
            "\tval_loss: 0.6156 | val_micro_f1: 0.4997\n",
            "\ttest_loss: 0.6044 | test_micro_f1: 0.5088\n",
            "training model GCNPPI\n",
            "GCNPPI(\n",
            "  (encoder): Sequential(\n",
            "    (0): GCNConv(50, 1024)\n",
            "    (1): GCNConv(1024, 1024)\n",
            "  )\n",
            "  (classifier): GCNConv(1024, 121)\n",
            ")\n",
            "training...\n",
            "early stopping...\n",
            "best model performance @ epoch 00009: \n",
            "\tval_loss: 0.6163 | val_micro_f1: 0.4969\n",
            "\ttest_loss: 0.6049 | test_micro_f1: 0.5055\n",
            "training model GCNPPI\n",
            "GCNPPI(\n",
            "  (encoder): Sequential(\n",
            "    (0): GCNConv(50, 1024)\n",
            "    (1): GCNConv(1024, 1024)\n",
            "  )\n",
            "  (classifier): GCNConv(1024, 121)\n",
            ")\n",
            "training...\n",
            "early stopping...\n",
            "best model performance @ epoch 00017: \n",
            "\tval_loss: 0.6152 | val_micro_f1: 0.4975\n",
            "\ttest_loss: 0.6041 | test_micro_f1: 0.5059\n",
            "training model GCNPPI\n",
            "GCNPPI(\n",
            "  (encoder): Sequential(\n",
            "    (0): GCNConv(50, 1024)\n",
            "    (1): GCNConv(1024, 1024)\n",
            "  )\n",
            "  (classifier): GCNConv(1024, 121)\n",
            ")\n",
            "training...\n",
            "early stopping...\n",
            "best model performance @ epoch 00015: \n",
            "\tval_loss: 0.6154 | val_micro_f1: 0.4978\n",
            "\ttest_loss: 0.6039 | test_micro_f1: 0.5069\n"
          ]
        }
      ],
      "source": [
        "loss_ci, score_ci = run_experiment(10)"
      ]
    },
    {
      "cell_type": "code",
      "execution_count": 14,
      "metadata": {
        "colab": {
          "base_uri": "https://localhost:8080/"
        },
        "id": "LCJrhqv7jqUS",
        "outputId": "6d303bee-888d-4f9e-db99-8ecedc372917"
      },
      "outputs": [
        {
          "name": "stdout",
          "output_type": "stream",
          "text": [
            "loss:\t\t0.6050 +/- 0.0008\n",
            "micro F1 score: 0.5067 +/- 0.0010\n"
          ]
        }
      ],
      "source": [
        "loss_std, loss_mean = loss_ci\n",
        "score_std, score_mean = score_ci\n",
        "\n",
        "print(f'loss:\\t\\t{loss_mean:.4f} +/- {loss_std:.4f}')\n",
        "print(f'micro F1 score: {score_mean:.4f} +/- {score_std:.4f}')"
      ]
    }
  ],
  "metadata": {
    "accelerator": "GPU",
    "colab": {
      "provenance": []
    },
    "gpuClass": "standard",
    "kernelspec": {
      "display_name": "Python 3.8.0 ('grl-env': venv)",
      "language": "python",
      "name": "python3"
    },
    "language_info": {
      "name": "python",
      "version": "3.8.0"
    },
    "vscode": {
      "interpreter": {
        "hash": "4737062b79cbd82e7f605897a0c10fa5613d72f803a33da3548714c1d9e40d67"
      }
    }
  },
  "nbformat": 4,
  "nbformat_minor": 0
}
